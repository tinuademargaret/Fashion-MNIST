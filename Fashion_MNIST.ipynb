{
  "nbformat": 4,
  "nbformat_minor": 0,
  "metadata": {
    "kernelspec": {
      "display_name": "Python 3",
      "language": "python",
      "name": "python3"
    },
    "language_info": {
      "codemirror_mode": {
        "name": "ipython",
        "version": 3
      },
      "file_extension": ".py",
      "mimetype": "text/x-python",
      "name": "python",
      "nbconvert_exporter": "python",
      "pygments_lexer": "ipython3",
      "version": "3.7.7"
    },
    "colab": {
      "name": "Fashion-MNIST.ipynb",
      "provenance": [],
      "include_colab_link": true
    }
  },
  "cells": [
    {
      "cell_type": "markdown",
      "metadata": {
        "id": "view-in-github",
        "colab_type": "text"
      },
      "source": [
        "<a href=\"https://colab.research.google.com/github/tinumide/Fashion-MNIST/blob/master/Fashion_MNIST.ipynb\" target=\"_parent\"><img src=\"https://colab.research.google.com/assets/colab-badge.svg\" alt=\"Open In Colab\"/></a>"
      ]
    },
    {
      "cell_type": "markdown",
      "metadata": {
        "id": "rjYgBHifeXl-",
        "colab_type": "text"
      },
      "source": [
        "# Classifying Fashion-MNIST\n",
        "\n",
        "This project uses the [Fashion-MNIST dataset](https://github.com/zalandoresearch/fashion-mnist)\n",
        "\n"
      ]
    },
    {
      "cell_type": "code",
      "metadata": {
        "id": "748DNohg3g_R",
        "colab_type": "code",
        "outputId": "6caf396e-9bb6-4257-c289-f51fb53aa533",
        "colab": {
          "base_uri": "https://localhost:8080/",
          "height": 34
        }
      },
      "source": [
        "from google.colab import drive\n",
        "drive.mount('/content/drive')"
      ],
      "execution_count": 24,
      "outputs": [
        {
          "output_type": "stream",
          "text": [
            "Drive already mounted at /content/drive; to attempt to forcibly remount, call drive.mount(\"/content/drive\", force_remount=True).\n"
          ],
          "name": "stdout"
        }
      ]
    },
    {
      "cell_type": "code",
      "metadata": {
        "id": "FVw5sfPr7Jik",
        "colab_type": "code",
        "outputId": "2aeeafe1-6fa1-428e-9be9-ae9ac7113e06",
        "colab": {
          "base_uri": "https://localhost:8080/",
          "height": 34
        }
      },
      "source": [
        "with open('/content/drive/My Drive/foo.txt', 'w') as f:\n",
        "  f.write('Hello welcome to google drive')\n",
        "!cat /content/drive/My\\ Drive/foo.txt"
      ],
      "execution_count": 0,
      "outputs": [
        {
          "output_type": "stream",
          "text": [
            "Hello welcome to google drive"
          ],
          "name": "stdout"
        }
      ]
    },
    {
      "cell_type": "code",
      "metadata": {
        "id": "2lWosJx19C8K",
        "colab_type": "code",
        "colab": {}
      },
      "source": [
        "import sys\n",
        "sys.path.append('/content/drive/My Drive')"
      ],
      "execution_count": 0,
      "outputs": []
    },
    {
      "cell_type": "code",
      "metadata": {
        "id": "qJvZ5F5feXmA",
        "colab_type": "code",
        "colab": {}
      },
      "source": [
        "import torch\n",
        "from torchvision import datasets, transforms\n",
        "import helper\n",
        "\n",
        "# Define a transform to normalize the data\n",
        "transform = transforms.Compose([transforms.ToTensor(),\n",
        "                                transforms.Normalize((0.5,), (0.5,))])\n",
        "# Download and load the training data\n",
        "trainset = datasets.FashionMNIST('~/.pytorch/F_MNIST_data/', download=True, train=True, transform=transform)\n",
        "trainloader = torch.utils.data.DataLoader(trainset, batch_size=64, shuffle=True)\n",
        "\n",
        "# Download and load the test data\n",
        "testset = datasets.FashionMNIST('~/.pytorch/F_MNIST_data/', download=True, train=False, transform=transform)\n",
        "testloader = torch.utils.data.DataLoader(testset, batch_size=64, shuffle=True)"
      ],
      "execution_count": 0,
      "outputs": []
    },
    {
      "cell_type": "markdown",
      "metadata": {
        "id": "e_A7CNGMeXmH",
        "colab_type": "text"
      },
      "source": [
        "Here we can see one of the images."
      ]
    },
    {
      "cell_type": "code",
      "metadata": {
        "id": "SL1X0g6JeXmI",
        "colab_type": "code",
        "outputId": "1179e9a2-1961-4920-a70d-7ba7edf36daf",
        "colab": {
          "base_uri": "https://localhost:8080/",
          "height": 248
        }
      },
      "source": [
        "image, label = next(iter(trainloader))\n",
        "helper.imshow(image[0,:]);"
      ],
      "execution_count": 0,
      "outputs": [
        {
          "output_type": "display_data",
          "data": {
            "image/png": "[encoded data removed]",
            "text/plain": [
              "<Figure size 432x288 with 1 Axes>"
            ]
          },
          "metadata": {
            "tags": [],
            "needs_background": "light"
          }
        }
      ]
    },
    {
      "cell_type": "markdown",
      "metadata": {
        "id": "hPiBWR9CeXmP",
        "colab_type": "text"
      },
      "source": [
        "## Building the network\n",
        "\n",
        "Each image is 28x28 which is a total of 784 pixels, and there are 10 classes. "
      ]
    },
    {
      "cell_type": "code",
      "metadata": {
        "id": "yyKsQjxHeXmQ",
        "colab_type": "code",
        "colab": {}
      },
      "source": [
        "from torch import nn, optim\n",
        "import torch.nn.functional as F\n",
        "\n",
        "class Classifier(nn.Module):\n",
        "    def __init__(self):\n",
        "        super().__init__()\n",
        "        self.fc1 = nn.Linear(784, 256)\n",
        "        self.fc2 = nn.Linear(256, 128)\n",
        "        self.fc3 = nn.Linear(128, 64)\n",
        "        self.fc4 = nn.Linear(64, 10)\n",
        "        \n",
        "    def forward(self, x):\n",
        "        # make sure input tensor is flattened\n",
        "        x = x.view(x.shape[0], -1)\n",
        "        \n",
        "        x = F.relu(self.fc1(x))\n",
        "        x = F.relu(self.fc2(x))\n",
        "        x = F.relu(self.fc3(x))\n",
        "        x = F.log_softmax(self.fc4(x), dim=1)\n",
        "        \n",
        "        return x\n"
      ],
      "execution_count": 0,
      "outputs": []
    },
    {
      "cell_type": "markdown",
      "metadata": {
        "id": "DOiUzoqTeXmV",
        "colab_type": "text"
      },
      "source": [
        "# Train the network"
      ]
    },
    {
      "cell_type": "code",
      "metadata": {
        "id": "6E-guzqGeXmW",
        "colab_type": "code",
        "colab": {}
      },
      "source": [
        "model = Classifier()\n",
        "criterion = nn.NLLLoss()\n",
        "optimizer = optim.Adam(model.parameters(), lr=0.003)"
      ],
      "execution_count": 0,
      "outputs": []
    },
    {
      "cell_type": "code",
      "metadata": {
        "id": "6lgq2pdteXmd",
        "colab_type": "code",
        "outputId": "9081168e-24ff-4c79-df05-4c2d16dc0f31",
        "colab": {
          "base_uri": "https://localhost:8080/",
          "height": 102
        }
      },
      "source": [
        "epochs = 5\n",
        "\n",
        "for e in range(epochs):\n",
        "    running_loss = 0\n",
        "    for images, labels in trainloader:\n",
        "        log_ps = model(images)\n",
        "        loss = criterion(log_ps, labels)\n",
        "        \n",
        "        optimizer.zero_grad()\n",
        "        loss.backward()\n",
        "        optimizer.step()\n",
        "        \n",
        "        running_loss += loss.item()\n",
        "    else:\n",
        "        print(f\"Training loss: {running_loss}\")"
      ],
      "execution_count": 0,
      "outputs": [
        {
          "output_type": "stream",
          "text": [
            "Training loss: 481.07515919208527\n",
            "Training loss: 369.87442894279957\n",
            "Training loss: 330.86704977601767\n",
            "Training loss: 307.25827130675316\n",
            "Training loss: 293.3751781359315\n"
          ],
          "name": "stdout"
        }
      ]
    },
    {
      "cell_type": "code",
      "metadata": {
        "id": "lXSs24hheXmj",
        "colab_type": "code",
        "outputId": "24381c94-8818-4145-8b2d-d91ea99d11de",
        "colab": {
          "base_uri": "https://localhost:8080/",
          "height": 233
        }
      },
      "source": [
        "%matplotlib inline\n",
        "%config InlineBackend.figure_format = 'retina'\n",
        "\n",
        "import helper\n",
        "\n",
        "\n",
        "\n",
        "dataiter = iter(testloader)\n",
        "images, labels = dataiter.next()\n",
        "img = images[0]\n",
        "# Convert 2D image to 1D vector\n",
        "img = img.resize_(1, 784)\n",
        "\n",
        "ps = torch.exp(model(img))\n",
        "\n",
        "# Plot the image and probabilities\n",
        "helper.view_classify(img.resize_(1, 28, 28), ps, version='Fashion')"
      ],
      "execution_count": 0,
      "outputs": [
        {
          "output_type": "display_data",
          "data": {
            "image/png": "[encoded data removed]",
            "text/plain": [
              "<Figure size 432x648 with 2 Axes>"
            ]
          },
          "metadata": {
            "tags": [],
            "image/png": {
              "width": 424,
              "height": 216
            },
            "needs_background": "light"
          }
        }
      ]
    },
    {
      "cell_type": "markdown",
      "metadata": {
        "id": "oYtS8veKeXmp",
        "colab_type": "text"
      },
      "source": [
        "## Validation"
      ]
    },
    {
      "cell_type": "code",
      "metadata": {
        "id": "6YPm0qZEeXmq",
        "colab_type": "code",
        "outputId": "202c934c-f8a0-4dea-b4bd-9e331ec367e6",
        "colab": {
          "base_uri": "https://localhost:8080/",
          "height": 34
        }
      },
      "source": [
        "model = Classifier()\n",
        "\n",
        "images, labels = next(iter(testloader))\n",
        "# Get the class probabilities\n",
        "ps = torch.exp(model(images))\n",
        "# Make sure the shape is appropriate\n",
        "print(ps.shape)"
      ],
      "execution_count": 0,
      "outputs": [
        {
          "output_type": "stream",
          "text": [
            "torch.Size([64, 10])\n"
          ],
          "name": "stdout"
        }
      ]
    },
    {
      "cell_type": "code",
      "metadata": {
        "id": "ojRGxNnYeXmx",
        "colab_type": "code",
        "outputId": "460ec2d0-acbd-4d94-d3f9-b0ca550613e2",
        "colab": {
          "base_uri": "https://localhost:8080/",
          "height": 187
        }
      },
      "source": [
        "top_p, top_class = ps.topk(1, dim=1)\n",
        "# Look at the most likely classes for the first 10 examples\n",
        "print(top_class[:10,:])"
      ],
      "execution_count": 0,
      "outputs": [
        {
          "output_type": "stream",
          "text": [
            "tensor([[9],\n",
            "        [9],\n",
            "        [9],\n",
            "        [9],\n",
            "        [9],\n",
            "        [9],\n",
            "        [9],\n",
            "        [9],\n",
            "        [9],\n",
            "        [9]])\n"
          ],
          "name": "stdout"
        }
      ]
    },
    {
      "cell_type": "code",
      "metadata": {
        "id": "ZUvEQ0pUeXm1",
        "colab_type": "code",
        "colab": {}
      },
      "source": [
        "equals = top_class == labels.view(*top_class.shape)"
      ],
      "execution_count": 0,
      "outputs": []
    },
    {
      "cell_type": "code",
      "metadata": {
        "id": "Vp9XzyRVeXm6",
        "colab_type": "code",
        "outputId": "ed1696d8-10b5-476c-c7fe-aa8f90b6cb3f",
        "colab": {
          "base_uri": "https://localhost:8080/",
          "height": 34
        }
      },
      "source": [
        "accuracy = torch.mean(equals.type(torch.FloatTensor))\n",
        "print(f'Accuracy: {accuracy.item()*100}%')"
      ],
      "execution_count": 0,
      "outputs": [
        {
          "output_type": "stream",
          "text": [
            "Accuracy: 10.9375%\n"
          ],
          "name": "stdout"
        }
      ]
    },
    {
      "cell_type": "code",
      "metadata": {
        "id": "2laRLkBOeXm_",
        "colab_type": "code",
        "outputId": "fa6b055d-3d01-495d-e1b9-4a0358b734fe",
        "colab": {
          "base_uri": "https://localhost:8080/",
          "height": 1000
        }
      },
      "source": [
        "model = Classifier()\n",
        "criterion = nn.NLLLoss()\n",
        "optimizer = optim.Adam(model.parameters(), lr=0.003)\n",
        "\n",
        "epochs = 30\n",
        "steps = 0\n",
        "\n",
        "train_losses, test_losses = [], []\n",
        "for e in range(epochs):\n",
        "    running_loss = 0\n",
        "    for images, labels in trainloader:\n",
        "        \n",
        "        optimizer.zero_grad()\n",
        "        \n",
        "        log_ps = model(images)\n",
        "        loss = criterion(log_ps, labels)\n",
        "        loss.backward()\n",
        "        optimizer.step()\n",
        "        \n",
        "        running_loss += loss.item()\n",
        "        \n",
        "    else:\n",
        "        accuracy = 0\n",
        "        with torch.no_grad():\n",
        "            for images, labels in testloader:\n",
        "                ps = torch.exp(model(images))\n",
        "                top_p, top_class = ps.topk(1, dim=1)\n",
        "                equals = top_class == labels.view(*top_class.shape)\n",
        "                accuracy += torch.mean(equals.type(torch.FloatTensor))\n",
        "            print(f'Accuracy: {accuracy.item()/len(testloader)}')\n",
        "        print(f'Accuracy: {accuracy.item()*100}%')"
      ],
      "execution_count": 0,
      "outputs": [
        {
          "output_type": "stream",
          "text": [
            "Accuracy: 0.8447452229299363\n",
            "Accuracy: 13262.5%\n",
            "Accuracy: 0.8556926751592356\n",
            "Accuracy: 13434.375%\n",
            "Accuracy: 0.857484076433121\n",
            "Accuracy: 13462.5%\n",
            "Accuracy: 0.8562898089171974\n",
            "Accuracy: 13443.75%\n",
            "Accuracy: 0.8596735668789809\n",
            "Accuracy: 13496.875%\n",
            "Accuracy: 0.8627587579617835\n",
            "Accuracy: 13545.3125%\n",
            "Accuracy: 0.8699243630573248\n",
            "Accuracy: 13657.8125%\n",
            "Accuracy: 0.8736066878980892\n",
            "Accuracy: 13715.625%\n",
            "Accuracy: 0.8663415605095541\n",
            "Accuracy: 13601.5625%\n",
            "Accuracy: 0.8722133757961783\n",
            "Accuracy: 13693.75%\n",
            "Accuracy: 0.8744028662420382\n",
            "Accuracy: 13728.125%\n",
            "Accuracy: 0.8745023885350318\n",
            "Accuracy: 13729.6875%\n",
            "Accuracy: 0.8687300955414012\n",
            "Accuracy: 13639.0625%\n",
            "Accuracy: 0.8802746815286624\n",
            "Accuracy: 13820.3125%\n",
            "Accuracy: 0.882265127388535\n",
            "Accuracy: 13851.5625%\n",
            "Accuracy: 0.8730095541401274\n",
            "Accuracy: 13706.25%\n",
            "Accuracy: 0.8767914012738853\n",
            "Accuracy: 13765.625%\n",
            "Accuracy: 0.8774880573248408\n",
            "Accuracy: 13776.5625%\n",
            "Accuracy: 0.8815684713375797\n",
            "Accuracy: 13840.625%\n",
            "Accuracy: 0.8777866242038217\n",
            "Accuracy: 13781.25%\n",
            "Accuracy: 0.87609474522293\n",
            "Accuracy: 13754.6875%\n",
            "Accuracy: 0.8781847133757962\n",
            "Accuracy: 13787.5%\n",
            "Accuracy: 0.8820660828025477\n",
            "Accuracy: 13848.4375%\n",
            "Accuracy: 0.8826632165605095\n",
            "Accuracy: 13857.8125%\n",
            "Accuracy: 0.8872412420382165\n",
            "Accuracy: 13929.6875%\n",
            "Accuracy: 0.8830613057324841\n",
            "Accuracy: 13864.0625%\n",
            "Accuracy: 0.875\n",
            "Accuracy: 13737.5%\n",
            "Accuracy: 0.8775875796178344\n",
            "Accuracy: 13778.125%\n",
            "Accuracy: 0.8824641719745223\n",
            "Accuracy: 13854.6875%\n",
            "Accuracy: 0.8805732484076433\n",
            "Accuracy: 13825.0%\n"
          ],
          "name": "stdout"
        }
      ]
    },
    {
      "cell_type": "code",
      "metadata": {
        "id": "gxgwaC3FeXnG",
        "colab_type": "code",
        "colab": {}
      },
      "source": [
        "# Define model with dropout added\n",
        "class Classifier(nn.Module):\n",
        "    def __init__(self):\n",
        "        super().__init__()\n",
        "        self.fc1 = nn.Linear(784, 128)\n",
        "        self.fc2 = nn.Linear(128, 64)\n",
        "        self.fc3 = nn.Linear(64, 10)\n",
        "        self.dropout = nn.Dropout(p=0.2)\n",
        "    def forward(self, x):\n",
        "        x = x.view(x.shape[0], -1)\n",
        "        x = self.dropout(F.relu(self.fc1(x)))\n",
        "        x = self.dropout(F.relu(self.fc2(x)))\n",
        "        x = F.log_softmax(self.fc3(x), dim=1)\n",
        "        return x\n",
        "model = Classifier()\n",
        "criterion = nn.NLLLoss()\n",
        "optimizer = optim.SGD(model.parameters(), lr=0.03)"
      ],
      "execution_count": 0,
      "outputs": []
    },
    {
      "cell_type": "code",
      "metadata": {
        "id": "uI9-Md1LeXnK",
        "colab_type": "code",
        "outputId": "0c81e96c-eac0-4f87-e713-3642749e72b1",
        "colab": {
          "base_uri": "https://localhost:8080/",
          "height": 527
        }
      },
      "source": [
        "epochs = 30\n",
        "for i in range(epochs):\n",
        "    running_loss = 0\n",
        "    for images, labels in trainloader:\n",
        "        optimizer.zero_grad()\n",
        "        logps = model.forward(images)\n",
        "        loss = criterion(logps, labels)\n",
        "        loss.backward()\n",
        "        optimizer.step()\n",
        "        running_loss += loss.item()\n",
        "    else:\n",
        "        accuracy = 0\n",
        "        with torch.no_grad():\n",
        "            model.eval()\n",
        "            for images, labels in testloader:\n",
        "                ps = torch.exp(model.forward(images))\n",
        "                top_p, top_class = ps.topk(1,dim=1)\n",
        "                equals = top_class == labels.view(*top_class.shape)\n",
        "                accuracy += torch.mean(equals.type(torch.FloatTensor))\n",
        "        model.train()\n",
        "        print(f'Accuracy : {(accuracy.item()/len(testloader))*100}')\n"
      ],
      "execution_count": 0,
      "outputs": [
        {
          "output_type": "stream",
          "text": [
            "Accuracy : 80.91162420382165\n",
            "Accuracy : 82.95183121019109\n",
            "Accuracy : 84.34514331210191\n",
            "Accuracy : 84.81289808917197\n",
            "Accuracy : 85.75835987261146\n",
            "Accuracy : 86.2062101910828\n",
            "Accuracy : 86.13654458598727\n",
            "Accuracy : 86.44506369426752\n",
            "Accuracy : 86.2062101910828\n",
            "Accuracy : 86.53463375796179\n",
            "Accuracy : 87.29100318471338\n",
            "Accuracy : 87.42038216560509\n",
            "Accuracy : 87.37062101910828\n",
            "Accuracy : 87.30095541401273\n",
            "Accuracy : 87.30095541401273\n",
            "Accuracy : 87.93789808917197\n",
            "Accuracy : 88.19665605095541\n",
            "Accuracy : 87.93789808917197\n",
            "Accuracy : 87.98765923566879\n",
            "Accuracy : 88.40565286624204\n",
            "Accuracy : 88.1170382165605\n",
            "Accuracy : 88.55493630573248\n",
            "Accuracy : 88.42555732484077\n",
            "Accuracy : 88.72412420382165\n",
            "Accuracy : 88.51512738853503\n",
            "Accuracy : 88.75398089171973\n",
            "Accuracy : 88.42555732484077\n",
            "Accuracy : 88.70421974522293\n",
            "Accuracy : 88.59474522292994\n",
            "Accuracy : 88.61464968152866\n"
          ],
          "name": "stdout"
        }
      ]
    },
    {
      "cell_type": "code",
      "metadata": {
        "id": "NYpDiTl1eXnR",
        "colab_type": "code",
        "outputId": "f4aa594f-8d77-4363-a282-57da3afe3a6f",
        "colab": {
          "base_uri": "https://localhost:8080/",
          "height": 233
        }
      },
      "source": [
        "import helper\n",
        "\n",
        "\n",
        "model.eval()\n",
        "\n",
        "dataiter = iter(testloader)\n",
        "images, labels = dataiter.next()\n",
        "img = images[0]\n",
        "# Convert 2D image to 1D vector\n",
        "img = img.view(1, 784)\n",
        "\n",
        "# Calculate the class probabilities (softmax) for img\n",
        "with torch.no_grad():\n",
        "    output = model.forward(img)\n",
        "\n",
        "ps = torch.exp(output)\n",
        "\n",
        "# Plot the image and probabilities\n",
        "helper.view_classify(img.view(1, 28, 28), ps, version='Fashion')"
      ],
      "execution_count": 0,
      "outputs": [
        {
          "output_type": "display_data",
          "data": {
            "image/png": "[encoded data removed]",
            "text/plain": [
              "<Figure size 432x648 with 2 Axes>"
            ]
          },
          "metadata": {
            "tags": [],
            "image/png": {
              "width": 424,
              "height": 216
            },
            "needs_background": "light"
          }
        }
      ]
    }
  ]
}